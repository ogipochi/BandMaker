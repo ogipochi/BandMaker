{
 "cells": [
  {
   "cell_type": "markdown",
   "metadata": {},
   "source": []
  },
  {
   "cell_type": "code",
   "execution_count": 3,
   "metadata": {},
   "outputs": [
    {
     "data": {
      "text/plain": [
       "True"
      ]
     },
     "execution_count": 3,
     "metadata": {},
     "output_type": "execute_result"
    }
   ],
   "source": [
    "import cv2\n",
    "import numpy as np\n",
    " \n",
    "min_table = 100\n",
    "max_table = 255\n",
    "diff_table = max_table - min_table\n",
    "look_up_table = np.arange(256, dtype = 'uint8' )\n",
    "\n",
    "for i in range(0, min_table):\n",
    "\n",
    "    look_up_table[i] = 0\n",
    "\n",
    "for i in range(min_table, max_table):\n",
    "\n",
    "    look_up_table[i] = 255 * (i - min_table) / diff_table\n",
    "\n",
    "for i in range(max_table, 255):\n",
    "\n",
    "    look_up_table[i] = 255\n",
    "\n",
    "\n",
    "# 画像の読み込み\n",
    "img_src = cv2.imread(\"background_sample.png\", 3)\n",
    "\n",
    "# コントラストを低減\n",
    "img_contrast = cv2.LUT(img_src, look_up_table)\n",
    "cv2.imwrite(\"background_sample2.png\",img_src)"
   ]
  },
  {
   "cell_type": "code",
   "execution_count": null,
   "metadata": {
    "collapsed": true
   },
   "outputs": [],
   "source": []
  }
 ],
 "metadata": {
  "kernelspec": {
   "display_name": "Python 3",
   "language": "python",
   "name": "python3"
  },
  "language_info": {
   "codemirror_mode": {
    "name": "ipython",
    "version": 3
   },
   "file_extension": ".py",
   "mimetype": "text/x-python",
   "name": "python",
   "nbconvert_exporter": "python",
   "pygments_lexer": "ipython3",
   "version": "3.5.2"
  }
 },
 "nbformat": 4,
 "nbformat_minor": 2
}
